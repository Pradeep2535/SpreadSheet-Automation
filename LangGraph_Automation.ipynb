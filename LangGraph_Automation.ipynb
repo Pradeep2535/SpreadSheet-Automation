{
  "nbformat": 4,
  "nbformat_minor": 0,
  "metadata": {
    "colab": {
      "provenance": [],
      "gpuType": "T4",
      "authorship_tag": "ABX9TyMC9Q6z2aFiAwSizciLZCeU",
      "include_colab_link": true
    },
    "kernelspec": {
      "name": "python3",
      "display_name": "Python 3"
    },
    "language_info": {
      "name": "python"
    },
    "accelerator": "GPU"
  },
  "cells": [
    {
      "cell_type": "markdown",
      "metadata": {
        "id": "view-in-github",
        "colab_type": "text"
      },
      "source": [
        "<a href=\"https://colab.research.google.com/github/Pradeep2535/SpreadSheet-Automation/blob/main/LangGraph_Automation.ipynb\" target=\"_parent\"><img src=\"https://colab.research.google.com/assets/colab-badge.svg\" alt=\"Open In Colab\"/></a>"
      ]
    },
    {
      "cell_type": "markdown",
      "source": [],
      "metadata": {
        "id": "J_GodM5p6rXT"
      }
    },
    {
      "cell_type": "code",
      "execution_count": null,
      "metadata": {
        "id": "0gglgaTC6B4C",
        "colab": {
          "base_uri": "https://localhost:8080/"
        },
        "outputId": "62c8cc43-e897-4948-bb79-966d278f83ec"
      },
      "outputs": [
        {
          "output_type": "stream",
          "name": "stdout",
          "text": [
            "\u001b[2K     \u001b[90m━━━━━━━━━━━━━━━━━━━━━━━━━━━━━━━━━━━━━━━━\u001b[0m \u001b[32m43.5/43.5 kB\u001b[0m \u001b[31m1.7 MB/s\u001b[0m eta \u001b[36m0:00:00\u001b[0m\n",
            "\u001b[2K   \u001b[90m━━━━━━━━━━━━━━━━━━━━━━━━━━━━━━━━━━━━━━━━\u001b[0m \u001b[32m2.5/2.5 MB\u001b[0m \u001b[31m26.1 MB/s\u001b[0m eta \u001b[36m0:00:00\u001b[0m\n",
            "\u001b[2K   \u001b[90m━━━━━━━━━━━━━━━━━━━━━━━━━━━━━━━━━━━━━━━━\u001b[0m \u001b[32m144.7/144.7 kB\u001b[0m \u001b[31m5.7 MB/s\u001b[0m eta \u001b[36m0:00:00\u001b[0m\n",
            "\u001b[2K   \u001b[90m━━━━━━━━━━━━━━━━━━━━━━━━━━━━━━━━━━━━━━━━\u001b[0m \u001b[32m42.0/42.0 kB\u001b[0m \u001b[31m1.3 MB/s\u001b[0m eta \u001b[36m0:00:00\u001b[0m\n",
            "\u001b[2K   \u001b[90m━━━━━━━━━━━━━━━━━━━━━━━━━━━━━━━━━━━━━━━━\u001b[0m \u001b[32m209.2/209.2 kB\u001b[0m \u001b[31m11.2 MB/s\u001b[0m eta \u001b[36m0:00:00\u001b[0m\n",
            "\u001b[2K   \u001b[90m━━━━━━━━━━━━━━━━━━━━━━━━━━━━━━━━━━━━━━━━\u001b[0m \u001b[32m1.4/1.4 MB\u001b[0m \u001b[31m23.4 MB/s\u001b[0m eta \u001b[36m0:00:00\u001b[0m\n",
            "\u001b[2K   \u001b[90m━━━━━━━━━━━━━━━━━━━━━━━━━━━━━━━━━━━━━━━━\u001b[0m \u001b[32m42.0/42.0 kB\u001b[0m \u001b[31m3.2 MB/s\u001b[0m eta \u001b[36m0:00:00\u001b[0m\n",
            "\u001b[2K   \u001b[90m━━━━━━━━━━━━━━━━━━━━━━━━━━━━━━━━━━━━━━━━\u001b[0m \u001b[32m47.2/47.2 kB\u001b[0m \u001b[31m1.4 MB/s\u001b[0m eta \u001b[36m0:00:00\u001b[0m\n",
            "\u001b[2K   \u001b[90m━━━━━━━━━━━━━━━━━━━━━━━━━━━━━━━━━━━━━━━━\u001b[0m \u001b[32m194.8/194.8 kB\u001b[0m \u001b[31m9.3 MB/s\u001b[0m eta \u001b[36m0:00:00\u001b[0m\n",
            "\u001b[2K   \u001b[90m━━━━━━━━━━━━━━━━━━━━━━━━━━━━━━━━━━━━━━━━\u001b[0m \u001b[32m50.9/50.9 kB\u001b[0m \u001b[31m2.9 MB/s\u001b[0m eta \u001b[36m0:00:00\u001b[0m\n",
            "\u001b[2K   \u001b[90m━━━━━━━━━━━━━━━━━━━━━━━━━━━━━━━━━━━━━━━━\u001b[0m \u001b[32m223.6/223.6 kB\u001b[0m \u001b[31m10.1 MB/s\u001b[0m eta \u001b[36m0:00:00\u001b[0m\n",
            "\u001b[?25h\u001b[31mERROR: pip's dependency resolver does not currently take into account all the packages that are installed. This behaviour is the source of the following dependency conflicts.\n",
            "google-generativeai 0.8.4 requires google-ai-generativelanguage==0.6.15, but you have google-ai-generativelanguage 0.6.17 which is incompatible.\u001b[0m\u001b[31m\n",
            "\u001b[0m"
          ]
        }
      ],
      "source": [
        "!pip install --quiet langchain langchain-community langgraph langchain-google-genai langchain_experimental"
      ]
    },
    {
      "cell_type": "code",
      "source": [
        "!pip install google-ai-generativelanguage==0.6.15"
      ],
      "metadata": {
        "colab": {
          "base_uri": "https://localhost:8080/",
          "height": 644
        },
        "id": "RSIxe9m9-Uuw",
        "outputId": "2756bf9e-d967-42ff-fcd9-0ca58c74dc06"
      },
      "execution_count": null,
      "outputs": [
        {
          "output_type": "stream",
          "name": "stdout",
          "text": [
            "Collecting google-ai-generativelanguage==0.6.15\n",
            "  Downloading google_ai_generativelanguage-0.6.15-py3-none-any.whl.metadata (5.7 kB)\n",
            "Requirement already satisfied: google-api-core!=2.0.*,!=2.1.*,!=2.10.*,!=2.2.*,!=2.3.*,!=2.4.*,!=2.5.*,!=2.6.*,!=2.7.*,!=2.8.*,!=2.9.*,<3.0.0dev,>=1.34.1 in /usr/local/lib/python3.11/dist-packages (from google-api-core[grpc]!=2.0.*,!=2.1.*,!=2.10.*,!=2.2.*,!=2.3.*,!=2.4.*,!=2.5.*,!=2.6.*,!=2.7.*,!=2.8.*,!=2.9.*,<3.0.0dev,>=1.34.1->google-ai-generativelanguage==0.6.15) (2.24.2)\n",
            "Requirement already satisfied: google-auth!=2.24.0,!=2.25.0,<3.0.0dev,>=2.14.1 in /usr/local/lib/python3.11/dist-packages (from google-ai-generativelanguage==0.6.15) (2.38.0)\n",
            "Requirement already satisfied: proto-plus<2.0.0dev,>=1.22.3 in /usr/local/lib/python3.11/dist-packages (from google-ai-generativelanguage==0.6.15) (1.26.1)\n",
            "Requirement already satisfied: protobuf!=4.21.0,!=4.21.1,!=4.21.2,!=4.21.3,!=4.21.4,!=4.21.5,<6.0.0dev,>=3.20.2 in /usr/local/lib/python3.11/dist-packages (from google-ai-generativelanguage==0.6.15) (5.29.4)\n",
            "Requirement already satisfied: googleapis-common-protos<2.0.0,>=1.56.2 in /usr/local/lib/python3.11/dist-packages (from google-api-core!=2.0.*,!=2.1.*,!=2.10.*,!=2.2.*,!=2.3.*,!=2.4.*,!=2.5.*,!=2.6.*,!=2.7.*,!=2.8.*,!=2.9.*,<3.0.0dev,>=1.34.1->google-api-core[grpc]!=2.0.*,!=2.1.*,!=2.10.*,!=2.2.*,!=2.3.*,!=2.4.*,!=2.5.*,!=2.6.*,!=2.7.*,!=2.8.*,!=2.9.*,<3.0.0dev,>=1.34.1->google-ai-generativelanguage==0.6.15) (1.69.2)\n",
            "Requirement already satisfied: requests<3.0.0,>=2.18.0 in /usr/local/lib/python3.11/dist-packages (from google-api-core!=2.0.*,!=2.1.*,!=2.10.*,!=2.2.*,!=2.3.*,!=2.4.*,!=2.5.*,!=2.6.*,!=2.7.*,!=2.8.*,!=2.9.*,<3.0.0dev,>=1.34.1->google-api-core[grpc]!=2.0.*,!=2.1.*,!=2.10.*,!=2.2.*,!=2.3.*,!=2.4.*,!=2.5.*,!=2.6.*,!=2.7.*,!=2.8.*,!=2.9.*,<3.0.0dev,>=1.34.1->google-ai-generativelanguage==0.6.15) (2.32.3)\n",
            "Requirement already satisfied: grpcio<2.0dev,>=1.33.2 in /usr/local/lib/python3.11/dist-packages (from google-api-core[grpc]!=2.0.*,!=2.1.*,!=2.10.*,!=2.2.*,!=2.3.*,!=2.4.*,!=2.5.*,!=2.6.*,!=2.7.*,!=2.8.*,!=2.9.*,<3.0.0dev,>=1.34.1->google-ai-generativelanguage==0.6.15) (1.71.0)\n",
            "Requirement already satisfied: grpcio-status<2.0.dev0,>=1.33.2 in /usr/local/lib/python3.11/dist-packages (from google-api-core[grpc]!=2.0.*,!=2.1.*,!=2.10.*,!=2.2.*,!=2.3.*,!=2.4.*,!=2.5.*,!=2.6.*,!=2.7.*,!=2.8.*,!=2.9.*,<3.0.0dev,>=1.34.1->google-ai-generativelanguage==0.6.15) (1.71.0)\n",
            "Requirement already satisfied: cachetools<6.0,>=2.0.0 in /usr/local/lib/python3.11/dist-packages (from google-auth!=2.24.0,!=2.25.0,<3.0.0dev,>=2.14.1->google-ai-generativelanguage==0.6.15) (5.5.2)\n",
            "Requirement already satisfied: pyasn1-modules>=0.2.1 in /usr/local/lib/python3.11/dist-packages (from google-auth!=2.24.0,!=2.25.0,<3.0.0dev,>=2.14.1->google-ai-generativelanguage==0.6.15) (0.4.2)\n",
            "Requirement already satisfied: rsa<5,>=3.1.4 in /usr/local/lib/python3.11/dist-packages (from google-auth!=2.24.0,!=2.25.0,<3.0.0dev,>=2.14.1->google-ai-generativelanguage==0.6.15) (4.9)\n",
            "Requirement already satisfied: pyasn1<0.7.0,>=0.6.1 in /usr/local/lib/python3.11/dist-packages (from pyasn1-modules>=0.2.1->google-auth!=2.24.0,!=2.25.0,<3.0.0dev,>=2.14.1->google-ai-generativelanguage==0.6.15) (0.6.1)\n",
            "Requirement already satisfied: charset-normalizer<4,>=2 in /usr/local/lib/python3.11/dist-packages (from requests<3.0.0,>=2.18.0->google-api-core!=2.0.*,!=2.1.*,!=2.10.*,!=2.2.*,!=2.3.*,!=2.4.*,!=2.5.*,!=2.6.*,!=2.7.*,!=2.8.*,!=2.9.*,<3.0.0dev,>=1.34.1->google-api-core[grpc]!=2.0.*,!=2.1.*,!=2.10.*,!=2.2.*,!=2.3.*,!=2.4.*,!=2.5.*,!=2.6.*,!=2.7.*,!=2.8.*,!=2.9.*,<3.0.0dev,>=1.34.1->google-ai-generativelanguage==0.6.15) (3.4.1)\n",
            "Requirement already satisfied: idna<4,>=2.5 in /usr/local/lib/python3.11/dist-packages (from requests<3.0.0,>=2.18.0->google-api-core!=2.0.*,!=2.1.*,!=2.10.*,!=2.2.*,!=2.3.*,!=2.4.*,!=2.5.*,!=2.6.*,!=2.7.*,!=2.8.*,!=2.9.*,<3.0.0dev,>=1.34.1->google-api-core[grpc]!=2.0.*,!=2.1.*,!=2.10.*,!=2.2.*,!=2.3.*,!=2.4.*,!=2.5.*,!=2.6.*,!=2.7.*,!=2.8.*,!=2.9.*,<3.0.0dev,>=1.34.1->google-ai-generativelanguage==0.6.15) (3.10)\n",
            "Requirement already satisfied: urllib3<3,>=1.21.1 in /usr/local/lib/python3.11/dist-packages (from requests<3.0.0,>=2.18.0->google-api-core!=2.0.*,!=2.1.*,!=2.10.*,!=2.2.*,!=2.3.*,!=2.4.*,!=2.5.*,!=2.6.*,!=2.7.*,!=2.8.*,!=2.9.*,<3.0.0dev,>=1.34.1->google-api-core[grpc]!=2.0.*,!=2.1.*,!=2.10.*,!=2.2.*,!=2.3.*,!=2.4.*,!=2.5.*,!=2.6.*,!=2.7.*,!=2.8.*,!=2.9.*,<3.0.0dev,>=1.34.1->google-ai-generativelanguage==0.6.15) (2.3.0)\n",
            "Requirement already satisfied: certifi>=2017.4.17 in /usr/local/lib/python3.11/dist-packages (from requests<3.0.0,>=2.18.0->google-api-core!=2.0.*,!=2.1.*,!=2.10.*,!=2.2.*,!=2.3.*,!=2.4.*,!=2.5.*,!=2.6.*,!=2.7.*,!=2.8.*,!=2.9.*,<3.0.0dev,>=1.34.1->google-api-core[grpc]!=2.0.*,!=2.1.*,!=2.10.*,!=2.2.*,!=2.3.*,!=2.4.*,!=2.5.*,!=2.6.*,!=2.7.*,!=2.8.*,!=2.9.*,<3.0.0dev,>=1.34.1->google-ai-generativelanguage==0.6.15) (2025.1.31)\n",
            "Downloading google_ai_generativelanguage-0.6.15-py3-none-any.whl (1.3 MB)\n",
            "\u001b[2K   \u001b[90m━━━━━━━━━━━━━━━━━━━━━━━━━━━━━━━━━━━━━━━━\u001b[0m \u001b[32m1.3/1.3 MB\u001b[0m \u001b[31m14.6 MB/s\u001b[0m eta \u001b[36m0:00:00\u001b[0m\n",
            "\u001b[?25hInstalling collected packages: google-ai-generativelanguage\n",
            "  Attempting uninstall: google-ai-generativelanguage\n",
            "    Found existing installation: google-ai-generativelanguage 0.6.17\n",
            "    Uninstalling google-ai-generativelanguage-0.6.17:\n",
            "      Successfully uninstalled google-ai-generativelanguage-0.6.17\n",
            "\u001b[31mERROR: pip's dependency resolver does not currently take into account all the packages that are installed. This behaviour is the source of the following dependency conflicts.\n",
            "langchain-google-genai 2.1.2 requires google-ai-generativelanguage<0.7.0,>=0.6.16, but you have google-ai-generativelanguage 0.6.15 which is incompatible.\u001b[0m\u001b[31m\n",
            "\u001b[0mSuccessfully installed google-ai-generativelanguage-0.6.15\n"
          ]
        },
        {
          "output_type": "display_data",
          "data": {
            "application/vnd.colab-display-data+json": {
              "pip_warning": {
                "packages": [
                  "google"
                ]
              },
              "id": "bc90eb0758404e1db23bc6e1ef927373"
            }
          },
          "metadata": {}
        }
      ]
    },
    {
      "cell_type": "code",
      "source": [
        "from typing import Annotated\n",
        "from typing import Literal\n",
        "from langchain_core.tools import tool\n",
        "from typing_extensions import TypedDict\n",
        "from langgraph.graph import MessagesState, END,StateGraph, START,MessagesState\n",
        "from langgraph.types import Command\n",
        "from langchain_core.messages import HumanMessage,AIMessage\n",
        "from langgraph.prebuilt import create_react_agent\n",
        "from langchain_experimental.utilities import PythonREPL\n",
        "from IPython.display import display,Image\n",
        "from langgraph.checkpoint.memory import MemorySaver\n",
        "from langgraph.prebuilt import ToolNode, tools_condition"
      ],
      "metadata": {
        "id": "fE2XVlzV6MHL"
      },
      "execution_count": null,
      "outputs": []
    },
    {
      "cell_type": "code",
      "source": [
        "from google.colab import userdata\n",
        "import os\n",
        "\n",
        "os.environ['GOOGLE_API_KEY'] = userdata.get('GOOGLE_API_KEY_1')"
      ],
      "metadata": {
        "id": "tjagzgZB6VJB"
      },
      "execution_count": null,
      "outputs": []
    },
    {
      "cell_type": "code",
      "source": [
        "from langchain_google_genai import ChatGoogleGenerativeAI\n",
        "\n",
        "llm = ChatGoogleGenerativeAI(model=\"gemini-2.0-flash\")\n",
        "llm.invoke(\"hi\")"
      ],
      "metadata": {
        "colab": {
          "base_uri": "https://localhost:8080/"
        },
        "id": "SCGxLjWw8kEV",
        "outputId": "77235aca-748c-44f6-fe9b-8b774191f17d"
      },
      "execution_count": null,
      "outputs": [
        {
          "output_type": "execute_result",
          "data": {
            "text/plain": [
              "AIMessage(content='Hi there! How can I help you today?', additional_kwargs={}, response_metadata={'prompt_feedback': {'block_reason': 0, 'safety_ratings': []}, 'finish_reason': 'STOP', 'model_name': 'gemini-2.0-flash', 'safety_ratings': []}, id='run-d54c1003-5587-4ffd-9c3f-0561aa2c627b-0', usage_metadata={'input_tokens': 1, 'output_tokens': 11, 'total_tokens': 12, 'input_token_details': {'cache_read': 0}})"
            ]
          },
          "metadata": {},
          "execution_count": 6
        }
      ]
    },
    {
      "cell_type": "code",
      "source": [
        "import gspread\n",
        "\n",
        "gc = gspread.service_account(filename=\"/content/credentials.json\")\n",
        "sheet = gc.open(\"Project_Management\").worksheet(\"Sheet2\")\n"
      ],
      "metadata": {
        "id": "o0HD4H3np8wW"
      },
      "execution_count": null,
      "outputs": []
    },
    {
      "cell_type": "code",
      "source": [
        "sheet.get_all_values()"
      ],
      "metadata": {
        "colab": {
          "base_uri": "https://localhost:8080/"
        },
        "id": "USDBJ0uxUoXM",
        "outputId": "be4af5fb-6cf2-45f5-8fb6-f0623e62fcd4"
      },
      "execution_count": null,
      "outputs": [
        {
          "output_type": "execute_result",
          "data": {
            "text/plain": [
              "[['Name', 'Age', 'City']]"
            ]
          },
          "metadata": {},
          "execution_count": 8
        }
      ]
    },
    {
      "cell_type": "code",
      "source": [
        "researcher_prompt = \"\"\"Role:\n",
        "You are a helpful AI assistant collaborating with other assistants to process tasks in a spreadsheet.\n",
        "\n",
        "Responsibilities:\n",
        "\n",
        "Your job is to determine the necessary operations that should be performed on the spreadsheet to achieve the given goal.\n",
        "\n",
        "Do not generate Python code. Your task is only to analyze the spreadsheet data and decide what changes need to be made.\n",
        "\n",
        "If modifications are required, pass the relevant data to other assistants that handle execution.\n",
        "\n",
        "If no modifications are needed, indicate when the operation is complete so the workflow stops.\n",
        "\n",
        "Spreadsheet Data Format\n",
        "The current data in the spreadsheet is provided as a dictionary, where:\n",
        "\n",
        "Keys represent column names.\n",
        "\n",
        "Values represent corresponding row values.\n",
        "\n",
        "Example of Spreadsheet Data:\n",
        "python\n",
        "Copy\n",
        "Edit\n",
        "{\n",
        "    \"Team Name\": \"Tholas\",\n",
        "    \"Team Members\": \"Pradeep, Rajesh\",\n",
        "    \"Task\": \"Module Development\",\n",
        "    \"Status\": \"Completed\",\n",
        "    \"Priority\": \"High\"\n",
        "},\n",
        "{\n",
        "    \"Team Name\": \"DevStorm\",\n",
        "    \"Team Members\": \"Vinoth, Pradeep\",\n",
        "    \"Task\": \"API Integration\",\n",
        "    \"Status\": \"Not Started\",\n",
        "    \"Priority\": \"Medium\"\n",
        "}\n",
        "\n",
        "Use this data to determine whether an operation needs to be performed or has already been completed.\n",
        "\n",
        "Handling Operations\n",
        "If the requested operation has already been performed and no modification is required:\n",
        "\n",
        "Prefix your response with: \"FINAL ANSWER\"\n",
        "\n",
        "This signals that the task is complete and no further action is needed.\n",
        "\n",
        "If additional steps are required from other assistants:\n",
        "\n",
        "Do not include \"FINAL ANSWER\" in your response.\n",
        "\n",
        "Instead, ensure that the next assistant receives the necessary data to proceed.\n",
        "\n",
        "If you are unsure, need confirmation, or require more details from the human user:\n",
        "\n",
        "Use the ask_human_input() tool to request clarification.\n",
        "\n",
        "If the tool call is made, then the Conversation between Human and Tool will be provided to you, so that you can get the clarified answer and the context and decide the operation to be performed.\\n\n",
        "\n",
        "Example: If the user message is \"add\", you must call the tool for more details before proceeding.\n",
        "Tool call will be made, then the Conversation between Human and Tool will be provided to you, so that you can get the clarified answer and the context and decide the operation to be performed.\n",
        "\n",
        "Strict Guidelines\n",
        "Do NOT assume or create your own values when modifying the spreadsheet unless and otherwise asked by the user in input. But if the user asks to use ai or some random values as data, you should generate ai values for the asked data and pass those values to another assistant to perform the specified operation in the spreadsheet with the values.\n",
        "eg: HumanMessage : use some random or ai generated name to populate names column\\n\n",
        "Action : generate ai names and pass those names to another assistant ans ask to add it in names column.\n",
        "\n",
        "If you cannot proceed further or need to end the process, prefix your response with \"FINAL ANSWER\".\n",
        "\n",
        "You should always instruct the other assistant with the opertion needed to performed with the values passed by the user.\n",
        "\"\"\"\n"
      ],
      "metadata": {
        "id": "6b4ILErt1qla"
      },
      "execution_count": null,
      "outputs": []
    },
    {
      "cell_type": "code",
      "source": [
        "\n",
        "def get_sheet_data_as_string(sheet):\n",
        "    data = sheet.get_all_values()\n",
        "    if not data:\n",
        "        return \"Sheet is empty.\"\n",
        "    headers = data[0]\n",
        "    rows = data[1:]\n",
        "\n",
        "    formatted_rows = [dict(zip(headers, row)) for row in rows]\n",
        "    if headers == [] and rows == []:\n",
        "        return \"Sheet is empty.\"\n",
        "    response=\"\\n\".join(str(row) for row in formatted_rows)\n",
        "    # print(headers)\n",
        "    if response ==\"\" and headers != []:\n",
        "       return \"Sheet is empty but headers are present in first row\"+ \"Headers: \"+ \",\".join(headers)\n",
        "    return response\n"
      ],
      "metadata": {
        "id": "j27Sc-cJHA-M"
      },
      "execution_count": null,
      "outputs": []
    },
    {
      "cell_type": "code",
      "source": [
        "get_sheet_data_as_string(sheet)"
      ],
      "metadata": {
        "colab": {
          "base_uri": "https://localhost:8080/",
          "height": 36
        },
        "id": "My9qSCVcH20l",
        "outputId": "a292a400-274f-4e6a-d4fc-94530b02d552"
      },
      "execution_count": null,
      "outputs": [
        {
          "output_type": "execute_result",
          "data": {
            "text/plain": [
              "'Sheet is empty but headers are present in first rowHeaders: Name,Age,City'"
            ],
            "application/vnd.google.colaboratory.intrinsic+json": {
              "type": "string"
            }
          },
          "metadata": {},
          "execution_count": 11
        }
      ]
    },
    {
      "cell_type": "code",
      "source": [
        "sheet.get_all_values()"
      ],
      "metadata": {
        "colab": {
          "base_uri": "https://localhost:8080/"
        },
        "id": "aXJyjHfAHumx",
        "outputId": "e3d3b56a-83e5-41bd-fd80-0855bdebf7ff"
      },
      "execution_count": null,
      "outputs": [
        {
          "output_type": "execute_result",
          "data": {
            "text/plain": [
              "[['Name', 'Age', 'City']]"
            ]
          },
          "metadata": {},
          "execution_count": 12
        }
      ]
    },
    {
      "cell_type": "code",
      "source": [
        "\n",
        "# def invoke_tool(state:AgentState):\n",
        "#     tool_details= state['messages'][-1].additional_kwargs.get(\"tool_calls\", [])[0]\n",
        "\n",
        "#     if tool_details is None:\n",
        "#         raise Exception(\"no tool call found\")\n",
        "\n",
        "#     print(f'Selected tool: {tool_details.get(\"function\").get(\"name\")}')\n",
        "\n",
        "#     if tool_details.get(\"function\").get(\"name\")==\"search\":\n",
        "#         response = input(prompt=f\"[y/n] continue with expensive web search?\")\n",
        "#         if response == \"n\":\n",
        "#             raise Exception(\"web search discard\")\n",
        "\n",
        "#     response = tool_mapping[tool_details['function']['name']].invoke(json.loads(tool_details.get(\"function\").get(\"arguments\")))\n",
        "#     return {\"messages\" : [response]}"
      ],
      "metadata": {
        "id": "i8Od5KlZl_Dv"
      },
      "execution_count": null,
      "outputs": []
    },
    {
      "cell_type": "code",
      "source": [
        "# @tool\n",
        "# def ask_human_input(state: MessagesState) -> str:\n",
        "#     \"\"\"\n",
        "#     Use this tool when the user's question is vague, incomplete, or requires clarification to proceed.\n",
        "\n",
        "#     This tool prompts the user for clarification or additional input.\n",
        "#     \"\"\"\n",
        "#     print(\"Tool is called\")\n",
        "#     prompt = state[\"messages\"][-1].content\n",
        "#     response = input(prompt=f\"[need clarification] {prompt}\\n> \")\n",
        "#     if response.lower() == \"n\":\n",
        "#         raise Exception(\"User discarded clarification\")\n",
        "#     return response\n"
      ],
      "metadata": {
        "id": "5j1A_tbmEE0S"
      },
      "execution_count": null,
      "outputs": []
    },
    {
      "cell_type": "code",
      "source": [
        "@tool\n",
        "def ask_human_input(state: MessagesState) -> str:\n",
        "    \"\"\"\n",
        "    Call this when the user's question is vague, incomplete, or needs clarification.\n",
        "    This tool returns a message asking the user for clarification.\n",
        "    \"\"\"\n",
        "    print(\"Tool is called\")\n",
        "    prompt = state[\"messages\"][-1].content\n",
        "    return f\"Your question needs more clarification: '{prompt}'. Please provide more details.\"\n"
      ],
      "metadata": {
        "id": "jc_s_6qH2b9J"
      },
      "execution_count": null,
      "outputs": []
    },
    {
      "cell_type": "code",
      "source": [
        "llm_with_tool = llm.bind_tools(tools=[ask_human_input])"
      ],
      "metadata": {
        "id": "qIG4DOcsEs4l"
      },
      "execution_count": null,
      "outputs": []
    },
    {
      "cell_type": "code",
      "source": [
        "from langchain_core.messages import AIMessage, ToolMessage,SystemMessage"
      ],
      "metadata": {
        "id": "oo1w7eFdyfsh"
      },
      "execution_count": null,
      "outputs": []
    },
    {
      "cell_type": "code",
      "source": [
        "\n",
        "def researcher(state: MessagesState) -> Command[Literal[\"code_generator\", \"tools\", END]]:\n",
        "    print(\"Researcher called\")\n",
        "\n",
        "    last_msg = state[\"messages\"][-1]\n",
        "\n",
        "    # print(last_user_msg,\"Last msg\")\n",
        "    sheet_data_string = get_sheet_data_as_string(sheet)\n",
        "    full_prompt = f\"\"\"{researcher_prompt}\n",
        "\n",
        "                      User Task or Conversation between User and Tool:\n",
        "                      {last_msg}\n",
        "\n",
        "                      Current Sheet Data:\n",
        "                      {sheet_data_string}\n",
        "                      \"\"\"\n",
        "\n",
        "    result = llm_with_tool.invoke(full_prompt, tool_choice=\"auto\")\n",
        "    # print(result.tool_calls, \"Tool Calls\")\n",
        "\n",
        "    if result.tool_calls:\n",
        "        # print(\"Tool call detected:\", result.tool_calls)\n",
        "        tool_call = result.tool_calls[0]\n",
        "        id = tool_call['id']\n",
        "        return Command(\n",
        "    update={\n",
        "        \"messages\": [\n",
        "            AIMessage(content=full_prompt),\n",
        "\n",
        "              ToolMessage(content=\"\".join(tool_call['args']['state']['messages']),tool_call_id=id),\n",
        "        ],\n",
        "        \"tool_calls\": [\n",
        "            {\n",
        "                \"type\": \"function\",\n",
        "                \"function\": {\n",
        "                    \"name\": tool_call[\"name\"],\n",
        "                    \"arguments\": tool_call[\"args\"][\"state\"][\"messages\"],\n",
        "                    \"tool_call_id\":id\n",
        "                }\n",
        "            }\n",
        "        ]\n",
        "    },\n",
        "    goto=\"tools\"\n",
        ")\n",
        "\n",
        "\n",
        "    msg = AIMessage(content=result.content, name=\"researcher\")\n",
        "    # print(msg.content + \" -------------\")\n",
        "\n",
        "    if \"FINAL ANSWER\" in msg.content:\n",
        "        # print(True, \"FINAL ANSWER matched!\")\n",
        "        return Command(\n",
        "            update={\"messages\": [msg]},\n",
        "            goto=END\n",
        "        )\n",
        "\n",
        "    return Command(\n",
        "        update={\"messages\": [msg]},\n",
        "        goto=\"code_generator\"\n",
        "    )\n"
      ],
      "metadata": {
        "id": "fMeTthZ0glV7"
      },
      "execution_count": null,
      "outputs": []
    },
    {
      "cell_type": "code",
      "source": [
        "repl=PythonREPL()\n",
        "repl.globals[\"gc\"] = gc\n",
        "repl.globals[\"sheet\"] = sheet"
      ],
      "metadata": {
        "id": "ABT9z_DFekM6"
      },
      "execution_count": null,
      "outputs": []
    },
    {
      "cell_type": "code",
      "source": [
        "@tool\n",
        "def python_repl_tool(\n",
        "    code: Annotated[str, \"The python code to execute the spreadsheet operation.\"],\n",
        "):\n",
        "    \"\"\"Executes python code for spreadsheet operations using gspread.\"\"\"\n",
        "\n",
        "    try:\n",
        "        # Use your pre-initialized REPL\n",
        "        repl=PythonREPL()\n",
        "        repl.globals[\"gc\"] = gc\n",
        "        repl.globals[\"sheet\"] = sheet\n",
        "        result = repl.run(code)\n",
        "    except BaseException as e:\n",
        "        return f\"Failed to execute. Error: {repr(e)}\"\n",
        "\n",
        "    return (\n",
        "        f\"Executed:\\n{code}\\nStdout: {result}\"\n",
        "    )\n"
      ],
      "metadata": {
        "id": "A8S7_Yue_aFx"
      },
      "execution_count": null,
      "outputs": []
    },
    {
      "cell_type": "code",
      "source": [
        "def code_generator(state: MessagesState) -> Command[Literal[\"python_executor\"]]:\n",
        "    print(\"Generator called\")\n",
        "    last_msg = state[\"messages\"][-1].content\n",
        "    # print(last_msg)\n",
        "\n",
        "    code_prompt = \"\"\"You are a Python code generator and receive command from researcher assistant.\n",
        "    Use the gspread API to modify a Google Sheet.\n",
        "    Remember to place the cursor in the spreadsheet at correct position before reading or modifying the sheet to position the cursor correctly.\n",
        "    You should not modify spreadsheet with any dummy data unless it is specified and only what instructed data should be modified.\n",
        "    If you find anyother values in the cell where the operation needs someother value, then you have the permission to delete the old values and insert the required given values.\n",
        "    - Use existing `sheet` object (already authenticated) and it is availaible in environment.\n",
        "    - DO NOT use pandas.\n",
        "    - Use: sheet.get_all_values(), sheet.update_cell(), sheet.append_row(), etc.\n",
        "    - Print output to confirm what was done.(in stout - mandatory)\n",
        "    - Output only Python code.\n",
        "    - You can also use the current data in spreadsheet to make suitable operation.\n",
        "\n",
        "\n",
        "\n",
        "    Instruction:\\n\"\"\" + last_msg\n",
        "    sheet_data_string = get_sheet_data_as_string(sheet)\n",
        "    full_prompt = f\"\"\"{code_prompt}\n",
        "\n",
        "\n",
        "\n",
        "                          Current Sheet Data:\n",
        "                          {sheet_data_string}\n",
        "                          \"\"\"\n",
        "\n",
        "    result = llm.invoke(full_prompt)\n",
        "    # print(result.content.strip())\n",
        "    msg = AIMessage(content=result.content.strip(), name=\"code_generator\")\n",
        "\n",
        "    return Command(update={\"messages\": [msg]}, goto=\"python_executor\")\n"
      ],
      "metadata": {
        "id": "eS1Pk88qkjjV"
      },
      "execution_count": null,
      "outputs": []
    },
    {
      "cell_type": "code",
      "source": [
        "\n",
        "def python_executor(state: MessagesState) -> Command[Literal[\"researcher\",END]]:\n",
        "    print(\"Executor called\")\n",
        "    code = state[\"messages\"][-1].content\n",
        "    output = python_repl_tool(code)\n",
        "    msg = AIMessage(content=output, name=\"python_executor\")\n",
        "    # print(\"check\" ,msg)\n",
        "    return Command(\n",
        "        update={\"messages\": [msg]},\n",
        "        goto=END if \"FINAL ANSWER\" in output else \"researcher\"\n",
        "    )\n"
      ],
      "metadata": {
        "id": "S6WOCi3ng_8c"
      },
      "execution_count": null,
      "outputs": []
    },
    {
      "cell_type": "code",
      "source": [
        "import random"
      ],
      "metadata": {
        "id": "bRrfU0As0QZC"
      },
      "execution_count": null,
      "outputs": []
    },
    {
      "cell_type": "code",
      "source": [
        "workflow = StateGraph(MessagesState)\n",
        "\n",
        "workflow.add_node(\"researcher\", researcher)\n",
        "workflow.add_node(\"code_generator\", code_generator)\n",
        "workflow.add_node(\"python_executor\", python_executor)\n",
        "workflow.add_node(\"tools\",ToolNode(tools = [ask_human_input]))\n",
        "workflow.set_entry_point(\"researcher\")\n",
        "# workflow.add_conditional_edges(\"researcher\", \"tools\")\n",
        "workflow.add_edge(\"tools\", \"researcher\")\n",
        "\n",
        "# workflow.add_edge(\"researcher\", \"code_generator\")\n",
        "# workflow.add_edge(\"code_generator\", \"python_executor\")\n",
        "# workflow.add_edge(\"python_executor\", \"researcher\")\n",
        "# workflow.add_edge(\"python_executor\", END)\n",
        "\n",
        "\n"
      ],
      "metadata": {
        "id": "dK7lf2EEpVUj",
        "colab": {
          "base_uri": "https://localhost:8080/"
        },
        "outputId": "ec1ea0ac-c0e9-4ebb-8d5d-8ddb9cb2f87e"
      },
      "execution_count": null,
      "outputs": [
        {
          "output_type": "execute_result",
          "data": {
            "text/plain": [
              "<langgraph.graph.state.StateGraph at 0x79becc4d8b50>"
            ]
          },
          "metadata": {},
          "execution_count": 24
        }
      ]
    },
    {
      "cell_type": "code",
      "source": [
        "app = workflow.compile(\n",
        "    checkpointer=MemorySaver(),\n",
        "    interrupt_before=[\"tools\"])"
      ],
      "metadata": {
        "id": "7k2xDlKcSszJ"
      },
      "execution_count": null,
      "outputs": []
    },
    {
      "cell_type": "code",
      "source": [
        "display(Image(app.get_graph().draw_mermaid_png()))"
      ],
      "metadata": {
        "colab": {
          "base_uri": "https://localhost:8080/",
          "height": 491
        },
        "id": "56_O5K-EpY7o",
        "outputId": "2f41dec1-135a-4071-f3da-1e6912610fc6"
      },
      "execution_count": null,
      "outputs": [
        {
          "output_type": "display_data",
          "data": {
            "image/png": "[encoded data removed]",
            "text/plain": [
              "<IPython.core.display.Image object>"
            ]
          },
          "metadata": {}
        }
      ]
    },
    {
      "cell_type": "code",
      "source": [
        "config = {\"configurable\": {\"thread_id\": \"107\"}}"
      ],
      "metadata": {
        "id": "fwT3An_xxLKt"
      },
      "execution_count": null,
      "outputs": []
    },
    {
      "cell_type": "code",
      "source": [
        "\n",
        "thread = config\n"
      ],
      "metadata": {
        "id": "KzBcCckpVwhB"
      },
      "execution_count": null,
      "outputs": []
    },
    {
      "cell_type": "code",
      "source": [
        "initial_input = {\n",
        "    \"messages\": [\n",
        "        HumanMessage(content=\"\"\"sort the rows in ascending order based on projects column values\"\"\")\n",
        "\n",
        "    ]\n",
        "}\n",
        "\n",
        "for event in app.stream(initial_input, thread, stream_mode=\"values\"):\n",
        "  pass\n",
        "  #print(event)\n",
        "\n",
        "\n",
        "\n",
        "snapshot = app.get_state(config)\n",
        "while snapshot.next:\n",
        "    if snapshot.next[0] == \"tools\":\n",
        "        human_input = input(f\"{snapshot.values['messages'][-1].content} \")\n",
        "\n",
        "        cmd = {\n",
        "            \"messages\": [\n",
        "                HumanMessage(content=human_input)\n",
        "            ]\n",
        "        }\n",
        "\n",
        "        app.update_state(thread, cmd)\n",
        "        formatted_conversation = \"\"\n",
        "        snapshot = app.get_state(config)\n",
        "        for msg in snapshot.values[\"messages\"]:\n",
        "          if isinstance(msg, HumanMessage):\n",
        "              formatted_conversation += f\"Human: {msg.content}\\n\"\n",
        "          elif isinstance(msg, ToolMessage):\n",
        "              formatted_conversation += f\"Tool: {msg.content}\\n\"\n",
        "        # Continue the graph execution\n",
        "        app.invoke({\n",
        "            \"messages\":formatted_conversation\n",
        "        },thread)\n",
        "        snapshot = app.get_state(config)\n",
        "    else:\n",
        "      print(\"Error\")\n",
        "      break\n",
        "\n",
        "\n",
        "\n",
        "print(\"Process Completed Successfully !!!\")"
      ],
      "metadata": {
        "id": "5AZjG3ty15Ny",
        "colab": {
          "base_uri": "https://localhost:8080/"
        },
        "outputId": "3ea78b1f-7f7a-494a-8091-27d3fb965c0a"
      },
      "execution_count": null,
      "outputs": [
        {
          "output_type": "stream",
          "name": "stdout",
          "text": [
            "Researcher called\n",
            "Generator called\n",
            "Executor called\n",
            "Researcher called\n",
            "Process Completed Successfully !!!\n"
          ]
        }
      ]
    },
    {
      "cell_type": "code",
      "source": [
        "\n"
      ],
      "metadata": {
        "id": "_4-Qfz5x-7LV"
      },
      "execution_count": null,
      "outputs": []
    },
    {
      "cell_type": "code",
      "source": [
        "snapshot = app.get_state(config)"
      ],
      "metadata": {
        "id": "t141YdhbQEcd"
      },
      "execution_count": null,
      "outputs": []
    },
    {
      "cell_type": "code",
      "source": [
        "initial_input = {\n",
        "    \"messages\": [\n",
        "        HumanMessage(content=\"add\")\n",
        "    ]\n",
        "}\n",
        "initial_input"
      ],
      "metadata": {
        "colab": {
          "base_uri": "https://localhost:8080/"
        },
        "id": "IvY3hZ0cP9HX",
        "outputId": "6124137d-d12b-40ef-bca9-40346f5d7a65"
      },
      "execution_count": null,
      "outputs": [
        {
          "output_type": "execute_result",
          "data": {
            "text/plain": [
              "{'messages': [HumanMessage(content='add', additional_kwargs={}, response_metadata={})]}"
            ]
          },
          "metadata": {},
          "execution_count": 31
        }
      ]
    },
    {
      "cell_type": "code",
      "source": [
        "for event in app.stream(initial_input, thread, stream_mode=\"values\"):\n",
        "    print(event)"
      ],
      "metadata": {
        "colab": {
          "base_uri": "https://localhost:8080/"
        },
        "id": "O4fXUxC7P6r4",
        "outputId": "caa96502-78cd-48a9-c028-810d5141cf8c"
      },
      "execution_count": null,
      "outputs": [
        {
          "output_type": "stream",
          "name": "stdout",
          "text": [
            "{'messages': [HumanMessage(content='add new headers Name,Skills,Address,Company,Projects', additional_kwargs={}, response_metadata={}, id='ffec9662-bb8f-4734-a5ac-ebcdfc2c884e'), AIMessage(content='Okay, the user wants to add new headers \"Skills\", \"Address\", \"Company\", and \"Projects\" to the spreadsheet, which currently has headers \"Name\", \"Age\", and \"City\". I need to instruct the next assistant to add these new headers to the spreadsheet.', additional_kwargs={}, response_metadata={}, name='researcher', id='4fc7f0eb-b624-486f-9c4a-696707f7b061'), AIMessage(content='```python\\nimport gspread\\n\\n# Assuming \\'sheet\\' object is already authenticated and available in the environment.\\n\\nnew_headers = [\"Skills\", \"Address\", \"Company\", \"Projects\"]\\n\\ntry:\\n    # Get the existing headers from the first row.\\n    existing_headers = sheet.row_values(1)\\n\\n    # Append the new headers to the existing headers.\\n    updated_headers = existing_headers + new_headers\\n\\n    # Update the first row with the combined headers.\\n    sheet.update_row(1, updated_headers)\\n\\n    print(f\"Headers updated successfully. Added headers: {new_headers}\")\\n\\nexcept Exception as e:\\n    print(f\"An error occurred: {e}\")\\n```', additional_kwargs={}, response_metadata={}, name='code_generator', id='3bd8a62a-978b-4ce2-97d8-8117f7779f86'), AIMessage(content='Executed:\\n```python\\nimport gspread\\n\\n# Assuming \\'sheet\\' object is already authenticated and available in the environment.\\n\\nnew_headers = [\"Skills\", \"Address\", \"Company\", \"Projects\"]\\n\\ntry:\\n    # Get the existing headers from the first row.\\n    existing_headers = sheet.row_values(1)\\n\\n    # Append the new headers to the existing headers.\\n    updated_headers = existing_headers + new_headers\\n\\n    # Update the first row with the combined headers.\\n    sheet.update_row(1, updated_headers)\\n\\n    print(f\"Headers updated successfully. Added headers: {new_headers}\")\\n\\nexcept Exception as e:\\n    print(f\"An error occurred: {e}\")\\n```\\nStdout: An error occurred: \\'Worksheet\\' object has no attribute \\'update_row\\'\\n', additional_kwargs={}, response_metadata={}, name='python_executor', id='fc3f747d-17a8-4a42-bafb-fd350fbce885'), AIMessage(content='The previous attempt to add headers \"Skills\", \"Address\", \"Company\", and \"Projects\" to the spreadsheet failed because the `update_row` method is not available for the `Worksheet` object in the `gspread` library. The current sheet has headers \"Name\", \"Age\", and \"City\". To rectify this, I need to use the `update_cells` method instead.\\n\\nHere\\'s the plan:\\n\\n1.  Get the existing headers (\"Name\", \"Age\", \"City\").\\n2.  Combine the existing headers with the new headers (\"Skills\", \"Address\", \"Company\", \"Projects\") to create a complete list of headers.\\n3.  Update the first row of the spreadsheet with the combined headers using the `update_cells` method. This involves creating a list of lists containing the headers and using `sheet.update_cells`.', additional_kwargs={}, response_metadata={}, name='researcher', id='a77a62ba-d62a-44b5-9dfc-4c807e11d09d'), AIMessage(content='```python\\nimport gspread\\n\\n# Assuming \\'sheet\\' object is already authenticated and available in the environment\\n\\n# 1. Get the existing headers\\nexisting_headers = sheet.row_values(1)\\n\\n# 2. Combine the existing headers with the new headers\\nnew_headers = [\"Skills\", \"Address\", \"Company\", \"Projects\"]\\ncombined_headers = existing_headers + new_headers\\n\\n# 3. Update the first row of the spreadsheet with the combined headers using update_cells\\ncell_list = sheet.range(1, 1, 1, len(combined_headers))\\nfor i, val in enumerate(combined_headers):\\n    cell_list[i].value = val\\n\\nsheet.update_cells(cell_list)\\n\\nprint(f\"Updated headers in the first row to: {combined_headers}\")\\n```', additional_kwargs={}, response_metadata={}, name='code_generator', id='54c05bb0-5de4-4f65-9d64-ac4a4cdce961'), AIMessage(content='Executed:\\n```python\\nimport gspread\\n\\n# Assuming \\'sheet\\' object is already authenticated and available in the environment\\n\\n# 1. Get the existing headers\\nexisting_headers = sheet.row_values(1)\\n\\n# 2. Combine the existing headers with the new headers\\nnew_headers = [\"Skills\", \"Address\", \"Company\", \"Projects\"]\\ncombined_headers = existing_headers + new_headers\\n\\n# 3. Update the first row of the spreadsheet with the combined headers using update_cells\\ncell_list = sheet.range(1, 1, 1, len(combined_headers))\\nfor i, val in enumerate(combined_headers):\\n    cell_list[i].value = val\\n\\nsheet.update_cells(cell_list)\\n\\nprint(f\"Updated headers in the first row to: {combined_headers}\")\\n```\\nStdout: Updated headers in the first row to: [\\'Name\\', \\'Age\\', \\'City\\', \\'Skills\\', \\'Address\\', \\'Company\\', \\'Projects\\']\\n', additional_kwargs={}, response_metadata={}, name='python_executor', id='f43ebbde-dc75-4dd4-be52-641522a99f86'), AIMessage(content='FINAL ANSWER: The headers have been added to the spreadsheet.', additional_kwargs={}, response_metadata={}, name='researcher', id='6c85fddd-cc89-4790-ab0c-06d73e0d33c6'), HumanMessage(content='add', additional_kwargs={}, response_metadata={}, id='a1f83f61-0d82-4498-891c-2fc8666b3d9f')]}\n",
            "Researcher called\n",
            "{'messages': [HumanMessage(content='add new headers Name,Skills,Address,Company,Projects', additional_kwargs={}, response_metadata={}, id='ffec9662-bb8f-4734-a5ac-ebcdfc2c884e'), AIMessage(content='Okay, the user wants to add new headers \"Skills\", \"Address\", \"Company\", and \"Projects\" to the spreadsheet, which currently has headers \"Name\", \"Age\", and \"City\". I need to instruct the next assistant to add these new headers to the spreadsheet.', additional_kwargs={}, response_metadata={}, name='researcher', id='4fc7f0eb-b624-486f-9c4a-696707f7b061'), AIMessage(content='```python\\nimport gspread\\n\\n# Assuming \\'sheet\\' object is already authenticated and available in the environment.\\n\\nnew_headers = [\"Skills\", \"Address\", \"Company\", \"Projects\"]\\n\\ntry:\\n    # Get the existing headers from the first row.\\n    existing_headers = sheet.row_values(1)\\n\\n    # Append the new headers to the existing headers.\\n    updated_headers = existing_headers + new_headers\\n\\n    # Update the first row with the combined headers.\\n    sheet.update_row(1, updated_headers)\\n\\n    print(f\"Headers updated successfully. Added headers: {new_headers}\")\\n\\nexcept Exception as e:\\n    print(f\"An error occurred: {e}\")\\n```', additional_kwargs={}, response_metadata={}, name='code_generator', id='3bd8a62a-978b-4ce2-97d8-8117f7779f86'), AIMessage(content='Executed:\\n```python\\nimport gspread\\n\\n# Assuming \\'sheet\\' object is already authenticated and available in the environment.\\n\\nnew_headers = [\"Skills\", \"Address\", \"Company\", \"Projects\"]\\n\\ntry:\\n    # Get the existing headers from the first row.\\n    existing_headers = sheet.row_values(1)\\n\\n    # Append the new headers to the existing headers.\\n    updated_headers = existing_headers + new_headers\\n\\n    # Update the first row with the combined headers.\\n    sheet.update_row(1, updated_headers)\\n\\n    print(f\"Headers updated successfully. Added headers: {new_headers}\")\\n\\nexcept Exception as e:\\n    print(f\"An error occurred: {e}\")\\n```\\nStdout: An error occurred: \\'Worksheet\\' object has no attribute \\'update_row\\'\\n', additional_kwargs={}, response_metadata={}, name='python_executor', id='fc3f747d-17a8-4a42-bafb-fd350fbce885'), AIMessage(content='The previous attempt to add headers \"Skills\", \"Address\", \"Company\", and \"Projects\" to the spreadsheet failed because the `update_row` method is not available for the `Worksheet` object in the `gspread` library. The current sheet has headers \"Name\", \"Age\", and \"City\". To rectify this, I need to use the `update_cells` method instead.\\n\\nHere\\'s the plan:\\n\\n1.  Get the existing headers (\"Name\", \"Age\", \"City\").\\n2.  Combine the existing headers with the new headers (\"Skills\", \"Address\", \"Company\", \"Projects\") to create a complete list of headers.\\n3.  Update the first row of the spreadsheet with the combined headers using the `update_cells` method. This involves creating a list of lists containing the headers and using `sheet.update_cells`.', additional_kwargs={}, response_metadata={}, name='researcher', id='a77a62ba-d62a-44b5-9dfc-4c807e11d09d'), AIMessage(content='```python\\nimport gspread\\n\\n# Assuming \\'sheet\\' object is already authenticated and available in the environment\\n\\n# 1. Get the existing headers\\nexisting_headers = sheet.row_values(1)\\n\\n# 2. Combine the existing headers with the new headers\\nnew_headers = [\"Skills\", \"Address\", \"Company\", \"Projects\"]\\ncombined_headers = existing_headers + new_headers\\n\\n# 3. Update the first row of the spreadsheet with the combined headers using update_cells\\ncell_list = sheet.range(1, 1, 1, len(combined_headers))\\nfor i, val in enumerate(combined_headers):\\n    cell_list[i].value = val\\n\\nsheet.update_cells(cell_list)\\n\\nprint(f\"Updated headers in the first row to: {combined_headers}\")\\n```', additional_kwargs={}, response_metadata={}, name='code_generator', id='54c05bb0-5de4-4f65-9d64-ac4a4cdce961'), AIMessage(content='Executed:\\n```python\\nimport gspread\\n\\n# Assuming \\'sheet\\' object is already authenticated and available in the environment\\n\\n# 1. Get the existing headers\\nexisting_headers = sheet.row_values(1)\\n\\n# 2. Combine the existing headers with the new headers\\nnew_headers = [\"Skills\", \"Address\", \"Company\", \"Projects\"]\\ncombined_headers = existing_headers + new_headers\\n\\n# 3. Update the first row of the spreadsheet with the combined headers using update_cells\\ncell_list = sheet.range(1, 1, 1, len(combined_headers))\\nfor i, val in enumerate(combined_headers):\\n    cell_list[i].value = val\\n\\nsheet.update_cells(cell_list)\\n\\nprint(f\"Updated headers in the first row to: {combined_headers}\")\\n```\\nStdout: Updated headers in the first row to: [\\'Name\\', \\'Age\\', \\'City\\', \\'Skills\\', \\'Address\\', \\'Company\\', \\'Projects\\']\\n', additional_kwargs={}, response_metadata={}, name='python_executor', id='f43ebbde-dc75-4dd4-be52-641522a99f86'), AIMessage(content='FINAL ANSWER: The headers have been added to the spreadsheet.', additional_kwargs={}, response_metadata={}, name='researcher', id='6c85fddd-cc89-4790-ab0c-06d73e0d33c6'), HumanMessage(content='add', additional_kwargs={}, response_metadata={}, id='a1f83f61-0d82-4498-891c-2fc8666b3d9f'), AIMessage(content='Role:\\nYou are a helpful AI assistant collaborating with other assistants to process tasks in a spreadsheet.\\n\\nResponsibilities:\\n\\nYour job is to determine the necessary operations that should be performed on the spreadsheet to achieve the given goal.\\n\\nDo not generate Python code. Your task is only to analyze the spreadsheet data and decide what changes need to be made.\\n\\nIf modifications are required, pass the relevant data to other assistants that handle execution.\\n\\nIf no modifications are needed, indicate when the operation is complete so the workflow stops.\\n\\nSpreadsheet Data Format\\nThe current data in the spreadsheet is provided as a dictionary, where:\\n\\nKeys represent column names.\\n\\nValues represent corresponding row values.\\n\\nExample of Spreadsheet Data:\\npython\\nCopy\\nEdit\\n{\\n    \"Team Name\": \"Tholas\",\\n    \"Team Members\": \"Pradeep, Rajesh\",\\n    \"Task\": \"Module Development\",\\n    \"Status\": \"Completed\",\\n    \"Priority\": \"High\"\\n},\\n{\\n    \"Team Name\": \"DevStorm\",\\n    \"Team Members\": \"Vinoth, Pradeep\",\\n    \"Task\": \"API Integration\",\\n    \"Status\": \"Not Started\",\\n    \"Priority\": \"Medium\"\\n}\\n\\nUse this data to determine whether an operation needs to be performed or has already been completed.\\n\\nHandling Operations\\nIf the requested operation has already been performed and no modification is required:\\n\\nPrefix your response with: \"FINAL ANSWER\"\\n\\nThis signals that the task is complete and no further action is needed.\\n\\nIf additional steps are required from other assistants:\\n\\nDo not include \"FINAL ANSWER\" in your response.\\n\\nInstead, ensure that the next assistant receives the necessary data to proceed.\\n\\nIf you are unsure, need confirmation, or require more details from the human user:\\n\\nUse the ask_human_input() tool to request clarification.\\n\\nIf the tool call is made, then the Conversation between Human and Tool will be provided to you, so that you can get the clarified answer and the context and decide the operation to be performed.\\n\\n\\nExample: If the user message is \"add\", you must call the tool for more details before proceeding.\\nTool call will be made, then the Conversation between Human and Tool will be provided to you, so that you can get the clarified answer and the context and decide the operation to be performed.\\n\\nStrict Guidelines\\nDo NOT assume or create your own values when modifying the spreadsheet unless and otherwise asked by the user in input. But if the user asks to use ai or some random values as data, you should generate ai values for the asked data and pass those values to another assistant to perform the specified operation in the spreadsheet with the values.\\neg: HumanMessage : use some random or ai generated name to populate names column\\n\\nAction : generate ai names and pass those names to another assistant ans ask to add it in names column.\\n\\nIf you cannot proceed further or need to end the process, prefix your response with \"FINAL ANSWER\".\\n\\nYou should always instruct the other assistant with the opertion needed to performed with the values passed by the user.\\n\\n\\n                      User Task or Conversation between User and Tool:\\n                      content=\\'add\\' additional_kwargs={} response_metadata={} id=\\'a1f83f61-0d82-4498-891c-2fc8666b3d9f\\'\\n\\n                      Current Sheet Data:\\n                      Sheet is empty but headers are present in first rowHeaders: Name,Age,City,Skills,Address,Company,Projects\\n                      ', additional_kwargs={}, response_metadata={}, id='2dd64f30-9582-45c2-8867-479dfe19a569'), ToolMessage(content='Could you please specify the details of the data you want to add to the spreadsheet? For example, please provide the values for each column (Name, Age, City, Skills, Address, Company, Projects).', id='fe11829d-db51-4d53-87e6-140431f47afc', tool_call_id='40b8d721-eeea-439b-ac5d-b223c766a8cf')]}\n"
          ]
        }
      ]
    },
    {
      "cell_type": "code",
      "source": [
        "snapshot = app.get_state(config)\n",
        "snapshot.next"
      ],
      "metadata": {
        "colab": {
          "base_uri": "https://localhost:8080/"
        },
        "id": "jwI507NPVHoQ",
        "outputId": "84cdc9c5-ca59-4ad7-81ae-d52300b8c7fe"
      },
      "execution_count": null,
      "outputs": [
        {
          "output_type": "execute_result",
          "data": {
            "text/plain": [
              "('tools',)"
            ]
          },
          "metadata": {},
          "execution_count": 33
        }
      ]
    },
    {
      "cell_type": "code",
      "source": [
        "app.update_state(thread, {\"messages\": [\n",
        "    HumanMessage(content=\"add new column with name 'Salary'\")\n",
        "]})"
      ],
      "metadata": {
        "colab": {
          "base_uri": "https://localhost:8080/"
        },
        "id": "io3wSLEHSDKz",
        "outputId": "88565551-6965-495d-c497-93e529549a4f"
      },
      "execution_count": null,
      "outputs": [
        {
          "output_type": "execute_result",
          "data": {
            "text/plain": [
              "{'configurable': {'thread_id': '103',\n",
              "  'checkpoint_ns': '',\n",
              "  'checkpoint_id': '1f0176a8-5ae1-65be-800b-9b0dff7c0ddf'}}"
            ]
          },
          "metadata": {},
          "execution_count": 34
        }
      ]
    },
    {
      "cell_type": "code",
      "source": [
        "print(app.get_state(thread).values)"
      ],
      "metadata": {
        "colab": {
          "base_uri": "https://localhost:8080/"
        },
        "id": "c1PWcZD-SqDJ",
        "outputId": "be8a720e-5ccd-4d69-b961-443660109f07"
      },
      "execution_count": null,
      "outputs": [
        {
          "output_type": "stream",
          "name": "stdout",
          "text": [
            "{'messages': [HumanMessage(content='add new headers Name,Skills,Address,Company,Projects', additional_kwargs={}, response_metadata={}, id='ffec9662-bb8f-4734-a5ac-ebcdfc2c884e'), AIMessage(content='Okay, the user wants to add new headers \"Skills\", \"Address\", \"Company\", and \"Projects\" to the spreadsheet, which currently has headers \"Name\", \"Age\", and \"City\". I need to instruct the next assistant to add these new headers to the spreadsheet.', additional_kwargs={}, response_metadata={}, name='researcher', id='4fc7f0eb-b624-486f-9c4a-696707f7b061'), AIMessage(content='```python\\nimport gspread\\n\\n# Assuming \\'sheet\\' object is already authenticated and available in the environment.\\n\\nnew_headers = [\"Skills\", \"Address\", \"Company\", \"Projects\"]\\n\\ntry:\\n    # Get the existing headers from the first row.\\n    existing_headers = sheet.row_values(1)\\n\\n    # Append the new headers to the existing headers.\\n    updated_headers = existing_headers + new_headers\\n\\n    # Update the first row with the combined headers.\\n    sheet.update_row(1, updated_headers)\\n\\n    print(f\"Headers updated successfully. Added headers: {new_headers}\")\\n\\nexcept Exception as e:\\n    print(f\"An error occurred: {e}\")\\n```', additional_kwargs={}, response_metadata={}, name='code_generator', id='3bd8a62a-978b-4ce2-97d8-8117f7779f86'), AIMessage(content='Executed:\\n```python\\nimport gspread\\n\\n# Assuming \\'sheet\\' object is already authenticated and available in the environment.\\n\\nnew_headers = [\"Skills\", \"Address\", \"Company\", \"Projects\"]\\n\\ntry:\\n    # Get the existing headers from the first row.\\n    existing_headers = sheet.row_values(1)\\n\\n    # Append the new headers to the existing headers.\\n    updated_headers = existing_headers + new_headers\\n\\n    # Update the first row with the combined headers.\\n    sheet.update_row(1, updated_headers)\\n\\n    print(f\"Headers updated successfully. Added headers: {new_headers}\")\\n\\nexcept Exception as e:\\n    print(f\"An error occurred: {e}\")\\n```\\nStdout: An error occurred: \\'Worksheet\\' object has no attribute \\'update_row\\'\\n', additional_kwargs={}, response_metadata={}, name='python_executor', id='fc3f747d-17a8-4a42-bafb-fd350fbce885'), AIMessage(content='The previous attempt to add headers \"Skills\", \"Address\", \"Company\", and \"Projects\" to the spreadsheet failed because the `update_row` method is not available for the `Worksheet` object in the `gspread` library. The current sheet has headers \"Name\", \"Age\", and \"City\". To rectify this, I need to use the `update_cells` method instead.\\n\\nHere\\'s the plan:\\n\\n1.  Get the existing headers (\"Name\", \"Age\", \"City\").\\n2.  Combine the existing headers with the new headers (\"Skills\", \"Address\", \"Company\", \"Projects\") to create a complete list of headers.\\n3.  Update the first row of the spreadsheet with the combined headers using the `update_cells` method. This involves creating a list of lists containing the headers and using `sheet.update_cells`.', additional_kwargs={}, response_metadata={}, name='researcher', id='a77a62ba-d62a-44b5-9dfc-4c807e11d09d'), AIMessage(content='```python\\nimport gspread\\n\\n# Assuming \\'sheet\\' object is already authenticated and available in the environment\\n\\n# 1. Get the existing headers\\nexisting_headers = sheet.row_values(1)\\n\\n# 2. Combine the existing headers with the new headers\\nnew_headers = [\"Skills\", \"Address\", \"Company\", \"Projects\"]\\ncombined_headers = existing_headers + new_headers\\n\\n# 3. Update the first row of the spreadsheet with the combined headers using update_cells\\ncell_list = sheet.range(1, 1, 1, len(combined_headers))\\nfor i, val in enumerate(combined_headers):\\n    cell_list[i].value = val\\n\\nsheet.update_cells(cell_list)\\n\\nprint(f\"Updated headers in the first row to: {combined_headers}\")\\n```', additional_kwargs={}, response_metadata={}, name='code_generator', id='54c05bb0-5de4-4f65-9d64-ac4a4cdce961'), AIMessage(content='Executed:\\n```python\\nimport gspread\\n\\n# Assuming \\'sheet\\' object is already authenticated and available in the environment\\n\\n# 1. Get the existing headers\\nexisting_headers = sheet.row_values(1)\\n\\n# 2. Combine the existing headers with the new headers\\nnew_headers = [\"Skills\", \"Address\", \"Company\", \"Projects\"]\\ncombined_headers = existing_headers + new_headers\\n\\n# 3. Update the first row of the spreadsheet with the combined headers using update_cells\\ncell_list = sheet.range(1, 1, 1, len(combined_headers))\\nfor i, val in enumerate(combined_headers):\\n    cell_list[i].value = val\\n\\nsheet.update_cells(cell_list)\\n\\nprint(f\"Updated headers in the first row to: {combined_headers}\")\\n```\\nStdout: Updated headers in the first row to: [\\'Name\\', \\'Age\\', \\'City\\', \\'Skills\\', \\'Address\\', \\'Company\\', \\'Projects\\']\\n', additional_kwargs={}, response_metadata={}, name='python_executor', id='f43ebbde-dc75-4dd4-be52-641522a99f86'), AIMessage(content='FINAL ANSWER: The headers have been added to the spreadsheet.', additional_kwargs={}, response_metadata={}, name='researcher', id='6c85fddd-cc89-4790-ab0c-06d73e0d33c6'), HumanMessage(content='add', additional_kwargs={}, response_metadata={}, id='a1f83f61-0d82-4498-891c-2fc8666b3d9f'), AIMessage(content='Role:\\nYou are a helpful AI assistant collaborating with other assistants to process tasks in a spreadsheet.\\n\\nResponsibilities:\\n\\nYour job is to determine the necessary operations that should be performed on the spreadsheet to achieve the given goal.\\n\\nDo not generate Python code. Your task is only to analyze the spreadsheet data and decide what changes need to be made.\\n\\nIf modifications are required, pass the relevant data to other assistants that handle execution.\\n\\nIf no modifications are needed, indicate when the operation is complete so the workflow stops.\\n\\nSpreadsheet Data Format\\nThe current data in the spreadsheet is provided as a dictionary, where:\\n\\nKeys represent column names.\\n\\nValues represent corresponding row values.\\n\\nExample of Spreadsheet Data:\\npython\\nCopy\\nEdit\\n{\\n    \"Team Name\": \"Tholas\",\\n    \"Team Members\": \"Pradeep, Rajesh\",\\n    \"Task\": \"Module Development\",\\n    \"Status\": \"Completed\",\\n    \"Priority\": \"High\"\\n},\\n{\\n    \"Team Name\": \"DevStorm\",\\n    \"Team Members\": \"Vinoth, Pradeep\",\\n    \"Task\": \"API Integration\",\\n    \"Status\": \"Not Started\",\\n    \"Priority\": \"Medium\"\\n}\\n\\nUse this data to determine whether an operation needs to be performed or has already been completed.\\n\\nHandling Operations\\nIf the requested operation has already been performed and no modification is required:\\n\\nPrefix your response with: \"FINAL ANSWER\"\\n\\nThis signals that the task is complete and no further action is needed.\\n\\nIf additional steps are required from other assistants:\\n\\nDo not include \"FINAL ANSWER\" in your response.\\n\\nInstead, ensure that the next assistant receives the necessary data to proceed.\\n\\nIf you are unsure, need confirmation, or require more details from the human user:\\n\\nUse the ask_human_input() tool to request clarification.\\n\\nIf the tool call is made, then the Conversation between Human and Tool will be provided to you, so that you can get the clarified answer and the context and decide the operation to be performed.\\n\\n\\nExample: If the user message is \"add\", you must call the tool for more details before proceeding.\\nTool call will be made, then the Conversation between Human and Tool will be provided to you, so that you can get the clarified answer and the context and decide the operation to be performed.\\n\\nStrict Guidelines\\nDo NOT assume or create your own values when modifying the spreadsheet unless and otherwise asked by the user in input. But if the user asks to use ai or some random values as data, you should generate ai values for the asked data and pass those values to another assistant to perform the specified operation in the spreadsheet with the values.\\neg: HumanMessage : use some random or ai generated name to populate names column\\n\\nAction : generate ai names and pass those names to another assistant ans ask to add it in names column.\\n\\nIf you cannot proceed further or need to end the process, prefix your response with \"FINAL ANSWER\".\\n\\nYou should always instruct the other assistant with the opertion needed to performed with the values passed by the user.\\n\\n\\n                      User Task or Conversation between User and Tool:\\n                      content=\\'add\\' additional_kwargs={} response_metadata={} id=\\'a1f83f61-0d82-4498-891c-2fc8666b3d9f\\'\\n\\n                      Current Sheet Data:\\n                      Sheet is empty but headers are present in first rowHeaders: Name,Age,City,Skills,Address,Company,Projects\\n                      ', additional_kwargs={}, response_metadata={}, id='2dd64f30-9582-45c2-8867-479dfe19a569'), ToolMessage(content='Could you please specify the details of the data you want to add to the spreadsheet? For example, please provide the values for each column (Name, Age, City, Skills, Address, Company, Projects).', id='fe11829d-db51-4d53-87e6-140431f47afc', tool_call_id='40b8d721-eeea-439b-ac5d-b223c766a8cf'), HumanMessage(content=\"add new column with name 'Salary'\", additional_kwargs={}, response_metadata={}, id='b1f73574-5b46-4cb1-b353-e85760250338')]}\n"
          ]
        }
      ]
    },
    {
      "cell_type": "code",
      "source": [],
      "metadata": {
        "id": "usOZDqd1w-tA"
      },
      "execution_count": null,
      "outputs": []
    }
  ]
}